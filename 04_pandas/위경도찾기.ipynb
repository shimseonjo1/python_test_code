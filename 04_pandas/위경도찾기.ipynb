{
 "cells": [
  {
   "cell_type": "code",
   "execution_count": 1,
   "id": "e38e3b57-5db8-4fbb-a5ce-d2a3f873df87",
   "metadata": {
    "collapsed": true,
    "jupyter": {
     "outputs_hidden": true
    },
    "tags": []
   },
   "outputs": [
    {
     "name": "stdout",
     "output_type": "stream",
     "text": [
      "Collecting geopy\n",
      "  Obtaining dependency information for geopy from https://files.pythonhosted.org/packages/e1/58/9289c6a03116025cdb61461d99b2493daa4967a80b13755463d71a0affeb/geopy-2.4.0-py3-none-any.whl.metadata\n",
      "  Downloading geopy-2.4.0-py3-none-any.whl.metadata (6.8 kB)\n",
      "Collecting geographiclib<3,>=1.52 (from geopy)\n",
      "  Downloading geographiclib-2.0-py3-none-any.whl (40 kB)\n",
      "     ---------------------------------------- 0.0/40.3 kB ? eta -:--:--\n",
      "     ---------- ----------------------------- 10.2/40.3 kB ? eta -:--:--\n",
      "     ---------------------------- --------- 30.7/40.3 kB 435.7 kB/s eta 0:00:01\n",
      "     -------------------------------------- 40.3/40.3 kB 385.7 kB/s eta 0:00:00\n",
      "Downloading geopy-2.4.0-py3-none-any.whl (125 kB)\n",
      "   ---------------------------------------- 0.0/125.4 kB ? eta -:--:--\n",
      "   ---------------------------------------- 125.4/125.4 kB 3.7 MB/s eta 0:00:00\n",
      "Installing collected packages: geographiclib, geopy\n",
      "Successfully installed geographiclib-2.0 geopy-2.4.0\n"
     ]
    }
   ],
   "source": [
    "!pip install geopy"
   ]
  },
  {
   "cell_type": "code",
   "execution_count": 1,
   "id": "04a9c2a6-66f4-4d5e-8d2a-f058c4f05ef8",
   "metadata": {
    "tags": []
   },
   "outputs": [],
   "source": [
    "from geopy.geocoders import Nominatim"
   ]
  },
  {
   "cell_type": "code",
   "execution_count": 2,
   "id": "1eb30991-b47d-480f-bbae-f41faaabf681",
   "metadata": {
    "tags": []
   },
   "outputs": [],
   "source": [
    "geocoder = Nominatim(user_agent='test')"
   ]
  },
  {
   "cell_type": "code",
   "execution_count": 9,
   "id": "533e3696-1a02-492e-8a6d-d8f391fa37c5",
   "metadata": {
    "tags": []
   },
   "outputs": [
    {
     "name": "stdout",
     "output_type": "stream",
     "text": [
      "CPU times: total: 15.6 ms\n",
      "Wall time: 1.02 s\n"
     ]
    }
   ],
   "source": [
    "%%time  \n",
    "# %%timeit -n10 -r5\n",
    "result = geocoder.geocode('세종특별자치시 조치원읍 세종로 2511')"
   ]
  },
  {
   "cell_type": "code",
   "execution_count": 5,
   "id": "f04bb857-2746-4934-9c5b-1bbf6f2f09a8",
   "metadata": {
    "tags": []
   },
   "outputs": [
    {
     "data": {
      "text/plain": [
       "geopy.location.Location"
      ]
     },
     "execution_count": 5,
     "metadata": {},
     "output_type": "execute_result"
    }
   ],
   "source": [
    "type(result)"
   ]
  },
  {
   "cell_type": "code",
   "execution_count": 6,
   "id": "aa0f637c-6fa5-4c53-a10a-b5d15e8b2c72",
   "metadata": {
    "tags": []
   },
   "outputs": [
    {
     "data": {
      "text/plain": [
       "'고려대학교 세종캠퍼스, 2511, 세종로, 조치원읍, 세종, 30019, 대한민국'"
      ]
     },
     "execution_count": 6,
     "metadata": {},
     "output_type": "execute_result"
    }
   ],
   "source": [
    "result.address"
   ]
  },
  {
   "cell_type": "code",
   "execution_count": 7,
   "id": "8827c9c9-074a-41ef-bd02-f6f80798ad09",
   "metadata": {
    "tags": []
   },
   "outputs": [
    {
     "data": {
      "text/plain": [
       "0.0"
      ]
     },
     "execution_count": 7,
     "metadata": {},
     "output_type": "execute_result"
    }
   ],
   "source": [
    "result.altitude"
   ]
  },
  {
   "cell_type": "code",
   "execution_count": 8,
   "id": "debf5271-d56e-41eb-9e4d-28f08a5d3504",
   "metadata": {
    "tags": []
   },
   "outputs": [
    {
     "data": {
      "text/plain": [
       "36.6105229"
      ]
     },
     "execution_count": 8,
     "metadata": {},
     "output_type": "execute_result"
    }
   ],
   "source": [
    "result.latitude #위도"
   ]
  },
  {
   "cell_type": "code",
   "execution_count": 9,
   "id": "ac0245b9-397e-4535-a86f-2905decc0cfb",
   "metadata": {
    "tags": []
   },
   "outputs": [
    {
     "data": {
      "text/plain": [
       "127.28871538515327"
      ]
     },
     "execution_count": 9,
     "metadata": {},
     "output_type": "execute_result"
    }
   ],
   "source": [
    "result.longitude #경도"
   ]
  },
  {
   "cell_type": "code",
   "execution_count": 10,
   "id": "82cb44b0-41a7-4f03-b9f5-e62622cb638d",
   "metadata": {
    "tags": []
   },
   "outputs": [
    {
     "data": {
      "text/plain": [
       "Point(36.6105229, 127.28871538515327, 0.0)"
      ]
     },
     "execution_count": 10,
     "metadata": {},
     "output_type": "execute_result"
    }
   ],
   "source": [
    "result.point"
   ]
  },
  {
   "cell_type": "code",
   "execution_count": 13,
   "id": "2fd45fec-bca7-495d-b6dc-c3b5ac743056",
   "metadata": {
    "tags": []
   },
   "outputs": [
    {
     "data": {
      "text/plain": [
       "Location(고려대학교 세종캠퍼스, 2511, 세종로, 조치원읍, 세종, 30019, 대한민국, (36.6105229, 127.28871538515327, 0.0))"
      ]
     },
     "execution_count": 13,
     "metadata": {},
     "output_type": "execute_result"
    }
   ],
   "source": [
    "geocoder.reverse('36.6105229, 127.28871538515327')"
   ]
  },
  {
   "cell_type": "code",
   "execution_count": 18,
   "id": "602d6869-2189-4190-9cd0-aeb0d461409d",
   "metadata": {},
   "outputs": [],
   "source": [
    "key= ''\n",
    "with open('../key.json','r')as f:\n",
    "    key =json.load(f)\n",
    "# print(key['key'])\n",
    "REST_API_KEY = key['key']"
   ]
  },
  {
   "cell_type": "raw",
   "id": "2431b811-1526-498a-9ef3-151acd3db6f8",
   "metadata": {},
   "source": [
    "curl -v -X GET \"https://dapi.kakao.com/v2/local/search/address.json\" \\\n",
    "  -H \"Authorization: KakaoAK ${REST_API_KEY}\" \\\n",
    "  --data-urlencode \"query=전북 삼성동 100\" "
   ]
  },
  {
   "cell_type": "code",
   "execution_count": 17,
   "id": "b068e19f-34e8-467b-82ee-5e0c60449859",
   "metadata": {
    "tags": []
   },
   "outputs": [],
   "source": [
    "import requests"
   ]
  },
  {
   "cell_type": "code",
   "execution_count": 26,
   "id": "65f19263-706f-492f-80e4-7a7482778b4e",
   "metadata": {
    "tags": []
   },
   "outputs": [
    {
     "data": {
      "text/plain": [
       "dict"
      ]
     },
     "execution_count": 26,
     "metadata": {},
     "output_type": "execute_result"
    }
   ],
   "source": [
    "address = '세종특별자치시 조치원읍 세종로 2511'\n",
    "url = f\"https://dapi.kakao.com/v2/local/search/address.json?query={address}\"\n",
    "headers = {'Authorization': f'KakaoAK {REST_API_KEY}'}\n",
    "res = requests.get(url,headers=headers).json()\n",
    "type(res)"
   ]
  },
  {
   "cell_type": "code",
   "execution_count": 27,
   "id": "30390f44-c993-472e-aa34-c78fde9fd384",
   "metadata": {
    "tags": []
   },
   "outputs": [
    {
     "data": {
      "text/plain": [
       "('36.6116946201537', '127.291002698042')"
      ]
     },
     "execution_count": 27,
     "metadata": {},
     "output_type": "execute_result"
    }
   ],
   "source": [
    "res['documents'][0]['address']['y'] , res['documents'][0]['address']['x']"
   ]
  },
  {
   "cell_type": "raw",
   "id": "24f1fb47-485b-4568-af30-6a8b12c96bfc",
   "metadata": {},
   "source": [
    "키워드 검색\n",
    "요청: 서울 강남구 삼성동 20km 반경에서 카카오프렌즈 매장 검색\n",
    "\n",
    "curl -v -X GET \"https://dapi.kakao.com/v2/local/search/keyword.json?y=37.514322572335935&x=127.06283102249932&radius=20000\" \\\n",
    "  -H \"Authorization: KakaoAK ${REST_API_KEY}\" \\\n",
    "  --data-urlencode \"query=카카오프렌즈\" "
   ]
  },
  {
   "cell_type": "code",
   "execution_count": 29,
   "id": "876e7194-d571-43a8-92d4-4b796d5a6eb9",
   "metadata": {
    "collapsed": true,
    "jupyter": {
     "outputs_hidden": true
    },
    "tags": []
   },
   "outputs": [
    {
     "data": {
      "text/plain": [
       "{'documents': [{'address_name': '세종특별자치시 조치원읍 신안리 391-1',\n",
       "   'category_group_code': 'CS2',\n",
       "   'category_group_name': '편의점',\n",
       "   'category_name': '가정,생활 > 편의점 > GS25',\n",
       "   'distance': '311',\n",
       "   'id': '22839764',\n",
       "   'phone': '',\n",
       "   'place_name': 'GS25 홍대은하점',\n",
       "   'place_url': 'http://place.map.kakao.com/22839764',\n",
       "   'road_address_name': '세종특별자치시 조치원읍 신안새동네길 31',\n",
       "   'x': '127.290443119802',\n",
       "   'y': '36.6144626585712'},\n",
       "  {'address_name': '세종특별자치시 조치원읍 신안리 393-14',\n",
       "   'category_group_code': 'CS2',\n",
       "   'category_group_name': '편의점',\n",
       "   'category_name': '가정,생활 > 편의점 > CU',\n",
       "   'distance': '335',\n",
       "   'id': '16913675',\n",
       "   'phone': '044-867-9345',\n",
       "   'place_name': 'CU 조치원신안점',\n",
       "   'place_url': 'http://place.map.kakao.com/16913675',\n",
       "   'road_address_name': '세종특별자치시 조치원읍 섭골길 38',\n",
       "   'x': '127.289172783412',\n",
       "   'y': '36.6143323796798'},\n",
       "  {'address_name': '세종특별자치시 조치원읍 서창리 66-48',\n",
       "   'category_group_code': 'CS2',\n",
       "   'category_group_name': '편의점',\n",
       "   'category_name': '가정,생활 > 편의점 > 이마트24',\n",
       "   'distance': '367',\n",
       "   'id': '970749978',\n",
       "   'phone': '',\n",
       "   'place_name': '이마트24 세종고대원룸점',\n",
       "   'place_url': 'http://place.map.kakao.com/970749978',\n",
       "   'road_address_name': '세종특별자치시 조치원읍 원마루길 17-7',\n",
       "   'x': '127.291748391599',\n",
       "   'y': '36.6084353624642'},\n",
       "  {'address_name': '세종특별자치시 조치원읍 서창리 64-8',\n",
       "   'category_group_code': 'CS2',\n",
       "   'category_group_name': '편의점',\n",
       "   'category_name': '가정,생활 > 편의점 > 세븐일레븐',\n",
       "   'distance': '303',\n",
       "   'id': '18116442',\n",
       "   'phone': '044-864-8252',\n",
       "   'place_name': '세븐일레븐 조치원고대점',\n",
       "   'place_url': 'http://place.map.kakao.com/18116442',\n",
       "   'road_address_name': '세종특별자치시 조치원읍 원마루길 16-2',\n",
       "   'x': '127.29191615526629',\n",
       "   'y': '36.609055836000366'},\n",
       "  {'address_name': '세종특별자치시 조치원읍 서창리 208',\n",
       "   'category_group_code': 'CS2',\n",
       "   'category_group_name': '편의점',\n",
       "   'category_name': '가정,생활 > 편의점 > GS25',\n",
       "   'distance': '315',\n",
       "   'id': '27499107',\n",
       "   'phone': '',\n",
       "   'place_name': 'GS25 고대플라자점',\n",
       "   'place_url': 'http://place.map.kakao.com/27499107',\n",
       "   'road_address_name': '세종특별자치시 조치원읍 세종로 2511',\n",
       "   'x': '127.28747553266442',\n",
       "   'y': '36.61151592471357'},\n",
       "  {'address_name': '세종특별자치시 조치원읍 신안리 88-2',\n",
       "   'category_group_code': 'CS2',\n",
       "   'category_group_name': '편의점',\n",
       "   'category_name': '가정,생활 > 편의점 > GS25',\n",
       "   'distance': '334',\n",
       "   'id': '2109093384',\n",
       "   'phone': '',\n",
       "   'place_name': 'GS25 조치원로드점',\n",
       "   'place_url': 'http://place.map.kakao.com/2109093384',\n",
       "   'road_address_name': '세종특별자치시 조치원읍 세종로 2552',\n",
       "   'x': '127.293258649181',\n",
       "   'y': '36.6140953078773'},\n",
       "  {'address_name': '세종특별자치시 조치원읍 서창리 188-27',\n",
       "   'category_group_code': 'CS2',\n",
       "   'category_group_name': '편의점',\n",
       "   'category_name': '가정,생활 > 편의점 > CU',\n",
       "   'distance': '392',\n",
       "   'id': '175367750',\n",
       "   'phone': '010-7651-2839',\n",
       "   'place_name': 'CU 세종고대점',\n",
       "   'place_url': 'http://place.map.kakao.com/175367750',\n",
       "   'road_address_name': '세종특별자치시 조치원읍 내창1길 39',\n",
       "   'x': '127.289418887276',\n",
       "   'y': '36.6083986891492'},\n",
       "  {'address_name': '세종특별자치시 조치원읍 서창리 176-10',\n",
       "   'category_group_code': 'CS2',\n",
       "   'category_group_name': '편의점',\n",
       "   'category_name': '가정,생활 > 편의점 > GS25',\n",
       "   'distance': '370',\n",
       "   'id': '1647309818',\n",
       "   'phone': '',\n",
       "   'place_name': 'GS25 서창고대점',\n",
       "   'place_url': 'http://place.map.kakao.com/1647309818',\n",
       "   'road_address_name': '세종특별자치시 조치원읍 내창1길 34',\n",
       "   'x': '127.29017679121229',\n",
       "   'y': '36.60841937455931'},\n",
       "  {'address_name': '세종특별자치시 조치원읍 서창리 208',\n",
       "   'category_group_code': 'CS2',\n",
       "   'category_group_name': '편의점',\n",
       "   'category_name': '가정,생활 > 편의점 > GS25',\n",
       "   'distance': '517',\n",
       "   'id': '12315379',\n",
       "   'phone': '1644-5425',\n",
       "   'place_name': 'GS25 고대세종점',\n",
       "   'place_url': 'http://place.map.kakao.com/12315379',\n",
       "   'road_address_name': '세종특별자치시 조치원읍 세종로 2511',\n",
       "   'x': '127.28536746194989',\n",
       "   'y': '36.61062435898939'},\n",
       "  {'address_name': '세종특별자치시 조치원읍 서창리 25-1',\n",
       "   'category_group_code': 'CS2',\n",
       "   'category_group_name': '편의점',\n",
       "   'category_name': '가정,생활 > 편의점 > CU',\n",
       "   'distance': '538',\n",
       "   'id': '1559601643',\n",
       "   'phone': '',\n",
       "   'place_name': 'CU 세종서창행복점',\n",
       "   'place_url': 'http://place.map.kakao.com/1559601643',\n",
       "   'road_address_name': '세종특별자치시 조치원읍 조치원중고길 7',\n",
       "   'x': '127.296948851959',\n",
       "   'y': '36.6109610236753'},\n",
       "  {'address_name': '세종특별자치시 조치원읍 서창리 208',\n",
       "   'category_group_code': 'CS2',\n",
       "   'category_group_name': '편의점',\n",
       "   'category_name': '가정,생활 > 편의점 > 세븐일레븐',\n",
       "   'distance': '564',\n",
       "   'id': '1610255416',\n",
       "   'phone': '',\n",
       "   'place_name': '세븐일레븐 세종고대자유관점',\n",
       "   'place_url': 'http://place.map.kakao.com/1610255416',\n",
       "   'road_address_name': '세종특별자치시 조치원읍 세종로 2511',\n",
       "   'x': '127.28471370402957',\n",
       "   'y': '36.61218218834572'},\n",
       "  {'address_name': '세종특별자치시 조치원읍 서창리 297-4',\n",
       "   'category_group_code': 'CS2',\n",
       "   'category_group_name': '편의점',\n",
       "   'category_name': '가정,생활 > 편의점 > GS25',\n",
       "   'distance': '630',\n",
       "   'id': '20058433',\n",
       "   'phone': '044-862-7441',\n",
       "   'place_name': 'GS25 침산빌리지점',\n",
       "   'place_url': 'http://place.map.kakao.com/20058433',\n",
       "   'road_address_name': '세종특별자치시 조치원읍 돌마루2길 3',\n",
       "   'x': '127.292025619152',\n",
       "   'y': '36.6060709968161'},\n",
       "  {'address_name': '세종특별자치시 조치원읍 서창리 140-9',\n",
       "   'category_group_code': 'CS2',\n",
       "   'category_group_name': '편의점',\n",
       "   'category_name': '가정,생활 > 편의점 > 세븐일레븐',\n",
       "   'distance': '628',\n",
       "   'id': '1413669185',\n",
       "   'phone': '1577-0711',\n",
       "   'place_name': '세븐일레븐 세종여고점',\n",
       "   'place_url': 'http://place.map.kakao.com/1413669185',\n",
       "   'road_address_name': '세종특별자치시 조치원읍 봉산로 11',\n",
       "   'x': '127.28873608083',\n",
       "   'y': '36.6063349355733'},\n",
       "  {'address_name': '세종특별자치시 조치원읍 신안리 343-2',\n",
       "   'category_group_code': 'CS2',\n",
       "   'category_group_name': '편의점',\n",
       "   'category_name': '가정,생활 > 편의점 > GS25',\n",
       "   'distance': '674',\n",
       "   'id': '17056992',\n",
       "   'phone': '044-863-9770',\n",
       "   'place_name': 'GS25 홍대신안점',\n",
       "   'place_url': 'http://place.map.kakao.com/17056992',\n",
       "   'road_address_name': '세종특별자치시 조치원읍 섭골길 74',\n",
       "   'x': '127.28704825955998',\n",
       "   'y': '36.61686881147765'},\n",
       "  {'address_name': '세종특별자치시 조치원읍 서창리 221',\n",
       "   'category_group_code': 'CS2',\n",
       "   'category_group_name': '편의점',\n",
       "   'category_name': '가정,생활 > 편의점 > CU',\n",
       "   'distance': '673',\n",
       "   'id': '1248709170',\n",
       "   'phone': '',\n",
       "   'place_name': 'CU 세종서창고대원룸점',\n",
       "   'place_url': 'http://place.map.kakao.com/1248709170',\n",
       "   'road_address_name': '세종특별자치시 조치원읍 모과나무길 34',\n",
       "   'x': '127.28479096202886',\n",
       "   'y': '36.60826565646575'}],\n",
       " 'meta': {'is_end': False,\n",
       "  'pageable_count': 45,\n",
       "  'same_name': {'keyword': '편의점', 'region': [], 'selected_region': ''},\n",
       "  'total_count': 1393}}"
      ]
     },
     "execution_count": 29,
     "metadata": {},
     "output_type": "execute_result"
    }
   ],
   "source": [
    "y=36.6116946201537\n",
    "x=127.291002698042\n",
    "radius=20000\n",
    "query='편의점'\n",
    "url = f'https://dapi.kakao.com/v2/local/search/keyword.json?y={y}&x={x}&radius={radius}&query={query}'\n",
    "\n",
    "import requests\n",
    "headers = {'Authorization': f'KakaoAK {REST_API_KEY}'}\n",
    "res = requests.get(url,headers=headers).json()\n",
    "res"
   ]
  },
  {
   "cell_type": "raw",
   "id": "e057e1ce-0457-4877-aefd-f0dd2872c18a",
   "metadata": {},
   "source": [
    "카테고리 검색\n",
    "\n",
    "요청: 서울 강남구 삼성동 20km 반경에서 약국 검색\n",
    "curl -v -X GET \"https://dapi.kakao.com/v2/local/search/category.json?category\\_group\\_code=PM9&radius=20000\" \\\n",
    "  -H \"Authorization: KakaoAK ${REST_API_KEY}\""
   ]
  },
  {
   "cell_type": "code",
   "execution_count": 30,
   "id": "8e746c54-b60f-49f5-bf1e-4fa779f10a74",
   "metadata": {
    "tags": []
   },
   "outputs": [
    {
     "name": "stdout",
     "output_type": "stream",
     "text": [
      "{'id': '7363d38c-6a58-4ad7-a322-2d5b0dc98145', 'generations': [{'text': ' 가장 어려운 문제를 해결할 수 있었다. 인터넷이든 랩탑 안이든지 간에 다른 사람의 머릿속과 동일한 환경 구현이 가능해진', 'tokens': 32}, {'text': ' 많은 의문의 해답들을 얻게 됐다. 화학과 물리학의 발달이 그것이다. 기왕에 말이 나온 김에 한 가지 더 언급', 'tokens': 32}, {'text': ' 문제에대한 대답이 책으로... book.naver.com \\u200b 과거는 이미 존재하기 때문이다: 연대와 통합의 미래를 위한 스물여섯 가지', 'tokens': 32}], 'usage': {'prompt_tokens': 66, 'generated_tokens': 96, 'total_tokens': 162}}\n"
     ]
    }
   ],
   "source": [
    "#KoGPT\n",
    "# coding=utf8\n",
    "# REST API 호출에 필요한 라이브러리\n",
    "import requests\n",
    "import json\n",
    "\n",
    "key= ''\n",
    "with open('../key.json','r')as f:\n",
    "    key =json.load(f)\n",
    "# print(key['key'])\n",
    "REST_API_KEY = key['key']\n",
    "\n",
    "# KoGPT API 호출을 위한 메서드 선언\n",
    "# 각 파라미터 기본값으로 설정\n",
    "def kogpt_api(prompt, max_tokens = 1, temperature = 1.0, top_p = 1.0, n = 1):\n",
    "    r = requests.post(\n",
    "        'https://api.kakaobrain.com/v1/inference/kogpt/generation',\n",
    "        json = {\n",
    "            'prompt': prompt,\n",
    "            'max_tokens': max_tokens,\n",
    "            'temperature': temperature,\n",
    "            'top_p': top_p,\n",
    "            'n': n\n",
    "        },\n",
    "        headers = {\n",
    "            'Authorization': 'KakaoAK ' + REST_API_KEY,\n",
    "            'Content-Type': 'application/json'\n",
    "        }\n",
    "    )\n",
    "    # 응답 JSON 형식으로 변환\n",
    "    response = json.loads(r.content)\n",
    "    return response\n",
    "\n",
    "# KoGPT에게 전달할 명령어 구성\n",
    "prompt = '''인간처럼 생각하고, 행동하는 '지능'을 통해 인류가 이제까지 풀지 못했던'''\n",
    "\n",
    "# 파라미터를 전달해 kogpt_api()메서드 호출\n",
    "response = kogpt_api(\n",
    "    prompt = prompt,\n",
    "    max_tokens = 32,\n",
    "    temperature = 1.0,\n",
    "    top_p = 1.0,\n",
    "    n = 3\n",
    ")\n",
    "\n",
    "print(response)"
   ]
  },
  {
   "cell_type": "code",
   "execution_count": 31,
   "id": "6c866e60-357b-4c70-979c-f0ee0083343b",
   "metadata": {
    "tags": []
   },
   "outputs": [
    {
     "data": {
      "text/plain": [
       "{'id': 'a6703729-f8a2-45e7-9aee-db078e0975f4',\n",
       " 'generations': [{'text': ' 선조', 'tokens': 1}],\n",
       " 'usage': {'prompt_tokens': 329, 'generated_tokens': 1, 'total_tokens': 330}}"
      ]
     },
     "execution_count": 31,
     "metadata": {},
     "output_type": "execute_result"
    }
   ],
   "source": [
    "prompt = '''임진왜란(壬辰倭亂)은 1592년(선조 25년) 도요토미 정권이 조선을 침략하면서 발발하여 1598년(선조 31년)까지 이어진 전쟁이다. 또한 임진왜란은 동아시아에 막대한 영향을 끼쳤으며, 두번의 침입이 있어서 제2차 침략은 정유재란이라 따로 부르기도 한다. 또한 이때 조선은 경복궁과 창덕궁 등 2개의 궁궐이 소실되었으며 약 백만명의 인구가 소실되었다.\n",
    "\n",
    "명칭\n",
    "일반적으로 임진년에 일어난 왜의 난리란 뜻으로 지칭되며 그 밖에 조선과 일본 사이에 일어난 전쟁이란 뜻에서 조일전쟁(朝日戰爭), 임진년에 일어난 전쟁이란 뜻에서 임진전쟁(壬辰戰爭), 도자기공들이 일본으로 납치된 후 일본에 도자기 문화가 전파되었다 하여 도자기 전쟁(陶瓷器戰爭)이라고도 한다. 일본에서는 당시 연호를 따서 분로쿠의 역(일본어: 文禄の役 분로쿠노에키[*])이라 하며, 중화인민공화국과 중화민국에서는 당시 명나라 황제였던 만력제의 호를 따 만력조선전쟁(萬曆朝鮮戰爭, 중국어: 萬曆朝鮮之役), 혹은 조선을 도와 왜와 싸웠다 하여 항왜원조(抗倭援朝)라고도 하며, 조선민주주의인민공화국에서는 임진조국전쟁(壬辰祖國戰爭)이라고 한다. 그밖에도 7년간의 전쟁이라 하여 7년 전쟁(七年戰爭)으로도 부른다.\n",
    "\n",
    "임진왜란 때 조선의 왕은?\n",
    "\n",
    "답:'''\n",
    "kogpt_api(prompt)"
   ]
  },
  {
   "cell_type": "code",
   "execution_count": 33,
   "id": "6ab5013f-aa8d-472f-9af1-fc6af370002a",
   "metadata": {
    "tags": []
   },
   "outputs": [
    {
     "data": {
      "text/plain": [
       "{'id': 'b999796b-56ed-439c-9b46-ddf0f90f9e85',\n",
       " 'generations': [{'text': '잠시만요 제 자리에 갖다 놓겠', 'tokens': 10}],\n",
       " 'usage': {'prompt_tokens': 125, 'generated_tokens': 10, 'total_tokens': 135}}"
      ]
     },
     "execution_count": 33,
     "metadata": {},
     "output_type": "execute_result"
    }
   ],
   "source": [
    "prompt='''주어진 문장을 존댓말 문장으로 바꿔주세요.\n",
    "\n",
    "문장:하지마!\n",
    "존댓말:하지 말아주세요.\n",
    "\n",
    "문장:나랑 같이 놀러가자\n",
    "존댓말:저랑 같이 놀러가지 않으실래요?\n",
    "\n",
    "문장:배고파 밥줘\n",
    "존댓말:배가고픈데 밥을 먹어도 될까요?\n",
    "\n",
    "문장:그거 재밌어?\n",
    "존댓말:그것은 재미 있나요?\n",
    "\n",
    "문장:뭐하는거야 지금\n",
    "존댓말:지금 무엇을 하시는 건가요?\n",
    "\n",
    "문장:당장 제자리에 돌려놔\n",
    "존댓말:'''\n",
    "kogpt_api(prompt,max_tokens=10, temperature=0.7)"
   ]
  },
  {
   "cell_type": "code",
   "execution_count": 34,
   "id": "a2e2c70c-3792-4ae1-90ff-6b0334ba85eb",
   "metadata": {
    "tags": []
   },
   "outputs": [],
   "source": [
    "# REST API 호출, 이미지 파일 처리에 필요한 라이브러리\n",
    "import requests\n",
    "import json\n",
    "import urllib\n",
    "from PIL import Image\n",
    "\n",
    "# [내 애플리케이션] > [앱 키] 에서 확인한 REST API 키 값 입력\n",
    "REST_API_KEY = key['key']\n",
    "\n",
    "# 이미지 생성하기 요청\n",
    "def t2i(prompt, negative_prompt):\n",
    "    r = requests.post(\n",
    "        'https://api.kakaobrain.com/v2/inference/karlo/t2i',\n",
    "        json = {\n",
    "            'prompt': prompt,\n",
    "            'negative_prompt': negative_prompt\n",
    "        },\n",
    "        headers = {\n",
    "            'Authorization': f'KakaoAK {REST_API_KEY}',\n",
    "            'Content-Type': 'application/json'\n",
    "        }\n",
    "    )\n",
    "    # 응답 JSON 형식으로 변환\n",
    "    response = json.loads(r.content)\n",
    "    return response\n",
    "\n",
    "# 프롬프트에 사용할 제시어\n",
    "prompt = \"A cat with white fur\"\n",
    "negative_prompt = \"sleeping cat, dog, human, ugly face, cropped\"\n",
    "\n",
    "# 이미지 생성하기 REST API 호출\n",
    "response = t2i(prompt, negative_prompt)\n",
    "\n",
    "# 응답의 첫 번째 이미지 생성 결과 출력하기\n",
    "result = Image.open(urllib.request.urlopen(response.get(\"images\")[0].get(\"image\")))\n",
    "result.show()"
   ]
  },
  {
   "cell_type": "code",
   "execution_count": null,
   "id": "1e77b22e-1cde-4d55-929b-17e85395a6e1",
   "metadata": {},
   "outputs": [],
   "source": []
  }
 ],
 "metadata": {
  "kernelspec": {
   "display_name": "Python 3 (ipykernel)",
   "language": "python",
   "name": "python3"
  },
  "language_info": {
   "codemirror_mode": {
    "name": "ipython",
    "version": 3
   },
   "file_extension": ".py",
   "mimetype": "text/x-python",
   "name": "python",
   "nbconvert_exporter": "python",
   "pygments_lexer": "ipython3",
   "version": "3.11.5"
  }
 },
 "nbformat": 4,
 "nbformat_minor": 5
}
