{
 "cells": [
  {
   "cell_type": "code",
   "execution_count": 1,
   "id": "e38e3b57-5db8-4fbb-a5ce-d2a3f873df87",
   "metadata": {
    "collapsed": true,
    "jupyter": {
     "outputs_hidden": true
    },
    "tags": []
   },
   "outputs": [
    {
     "name": "stdout",
     "output_type": "stream",
     "text": [
      "Collecting geopy\n",
      "  Obtaining dependency information for geopy from https://files.pythonhosted.org/packages/e1/58/9289c6a03116025cdb61461d99b2493daa4967a80b13755463d71a0affeb/geopy-2.4.0-py3-none-any.whl.metadata\n",
      "  Downloading geopy-2.4.0-py3-none-any.whl.metadata (6.8 kB)\n",
      "Collecting geographiclib<3,>=1.52 (from geopy)\n",
      "  Downloading geographiclib-2.0-py3-none-any.whl (40 kB)\n",
      "     ---------------------------------------- 0.0/40.3 kB ? eta -:--:--\n",
      "     ---------- ----------------------------- 10.2/40.3 kB ? eta -:--:--\n",
      "     ---------------------------- --------- 30.7/40.3 kB 435.7 kB/s eta 0:00:01\n",
      "     -------------------------------------- 40.3/40.3 kB 385.7 kB/s eta 0:00:00\n",
      "Downloading geopy-2.4.0-py3-none-any.whl (125 kB)\n",
      "   ---------------------------------------- 0.0/125.4 kB ? eta -:--:--\n",
      "   ---------------------------------------- 125.4/125.4 kB 3.7 MB/s eta 0:00:00\n",
      "Installing collected packages: geographiclib, geopy\n",
      "Successfully installed geographiclib-2.0 geopy-2.4.0\n"
     ]
    }
   ],
   "source": [
    "!pip install geopy"
   ]
  },
  {
   "cell_type": "code",
   "execution_count": 2,
   "id": "04a9c2a6-66f4-4d5e-8d2a-f058c4f05ef8",
   "metadata": {
    "tags": []
   },
   "outputs": [],
   "source": [
    "from geopy.geocoders import Nominatim"
   ]
  },
  {
   "cell_type": "code",
   "execution_count": 4,
   "id": "b6336b58-f48d-4924-b29c-67c384710be8",
   "metadata": {
    "tags": []
   },
   "outputs": [],
   "source": [
    "geocoder = Nominatim(user_agent='test')\n",
    "result = geocoder.geocode('세종특별자치시 조치원읍 세종로 2511')"
   ]
  },
  {
   "cell_type": "code",
   "execution_count": 5,
   "id": "f04bb857-2746-4934-9c5b-1bbf6f2f09a8",
   "metadata": {
    "tags": []
   },
   "outputs": [
    {
     "data": {
      "text/plain": [
       "geopy.location.Location"
      ]
     },
     "execution_count": 5,
     "metadata": {},
     "output_type": "execute_result"
    }
   ],
   "source": [
    "type(result)"
   ]
  },
  {
   "cell_type": "code",
   "execution_count": 6,
   "id": "aa0f637c-6fa5-4c53-a10a-b5d15e8b2c72",
   "metadata": {
    "tags": []
   },
   "outputs": [
    {
     "data": {
      "text/plain": [
       "'고려대학교 세종캠퍼스, 2511, 세종로, 조치원읍, 세종, 30019, 대한민국'"
      ]
     },
     "execution_count": 6,
     "metadata": {},
     "output_type": "execute_result"
    }
   ],
   "source": [
    "result.address"
   ]
  },
  {
   "cell_type": "code",
   "execution_count": 7,
   "id": "8827c9c9-074a-41ef-bd02-f6f80798ad09",
   "metadata": {
    "tags": []
   },
   "outputs": [
    {
     "data": {
      "text/plain": [
       "0.0"
      ]
     },
     "execution_count": 7,
     "metadata": {},
     "output_type": "execute_result"
    }
   ],
   "source": [
    "result.altitude"
   ]
  },
  {
   "cell_type": "code",
   "execution_count": 8,
   "id": "debf5271-d56e-41eb-9e4d-28f08a5d3504",
   "metadata": {
    "tags": []
   },
   "outputs": [
    {
     "data": {
      "text/plain": [
       "36.6105229"
      ]
     },
     "execution_count": 8,
     "metadata": {},
     "output_type": "execute_result"
    }
   ],
   "source": [
    "result.latitude #위도"
   ]
  },
  {
   "cell_type": "code",
   "execution_count": 9,
   "id": "ac0245b9-397e-4535-a86f-2905decc0cfb",
   "metadata": {
    "tags": []
   },
   "outputs": [
    {
     "data": {
      "text/plain": [
       "127.28871538515327"
      ]
     },
     "execution_count": 9,
     "metadata": {},
     "output_type": "execute_result"
    }
   ],
   "source": [
    "result.longitude #경도"
   ]
  },
  {
   "cell_type": "code",
   "execution_count": 10,
   "id": "82cb44b0-41a7-4f03-b9f5-e62622cb638d",
   "metadata": {
    "tags": []
   },
   "outputs": [
    {
     "data": {
      "text/plain": [
       "Point(36.6105229, 127.28871538515327, 0.0)"
      ]
     },
     "execution_count": 10,
     "metadata": {},
     "output_type": "execute_result"
    }
   ],
   "source": [
    "result.point"
   ]
  },
  {
   "cell_type": "code",
   "execution_count": 13,
   "id": "2fd45fec-bca7-495d-b6dc-c3b5ac743056",
   "metadata": {
    "tags": []
   },
   "outputs": [
    {
     "data": {
      "text/plain": [
       "Location(고려대학교 세종캠퍼스, 2511, 세종로, 조치원읍, 세종, 30019, 대한민국, (36.6105229, 127.28871538515327, 0.0))"
      ]
     },
     "execution_count": 13,
     "metadata": {},
     "output_type": "execute_result"
    }
   ],
   "source": [
    "geocoder.reverse('36.6105229, 127.28871538515327')"
   ]
  },
  {
   "cell_type": "code",
   "execution_count": null,
   "id": "602d6869-2189-4190-9cd0-aeb0d461409d",
   "metadata": {},
   "outputs": [],
   "source": []
  }
 ],
 "metadata": {
  "kernelspec": {
   "display_name": "Python 3 (ipykernel)",
   "language": "python",
   "name": "python3"
  },
  "language_info": {
   "codemirror_mode": {
    "name": "ipython",
    "version": 3
   },
   "file_extension": ".py",
   "mimetype": "text/x-python",
   "name": "python",
   "nbconvert_exporter": "python",
   "pygments_lexer": "ipython3",
   "version": "3.11.5"
  }
 },
 "nbformat": 4,
 "nbformat_minor": 5
}
