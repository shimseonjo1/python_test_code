{
 "cells": [
  {
   "cell_type": "code",
   "execution_count": 1,
   "id": "602d6869-2189-4190-9cd0-aeb0d461409d",
   "metadata": {},
   "outputs": [],
   "source": [
    "import json,os\n",
    "key= ''\n",
    "with open('../key.json','r')as f:\n",
    "    key =json.load(f)\n",
    "# print(key['key'])\n",
    "REST_API_KEY = key['key']"
   ]
  },
  {
   "cell_type": "raw",
   "id": "2431b811-1526-498a-9ef3-151acd3db6f8",
   "metadata": {},
   "source": [
    "curl -v -X GET \"https://dapi.kakao.com/v2/local/search/address.json\" \\\n",
    "  -H \"Authorization: KakaoAK ${REST_API_KEY}\" \\\n",
    "  --data-urlencode \"query=전북 삼성동 100\" "
   ]
  },
  {
   "cell_type": "code",
   "execution_count": 2,
   "id": "b068e19f-34e8-467b-82ee-5e0c60449859",
   "metadata": {
    "tags": []
   },
   "outputs": [],
   "source": [
    "import requests"
   ]
  },
  {
   "cell_type": "code",
   "execution_count": 6,
   "id": "65f19263-706f-492f-80e4-7a7482778b4e",
   "metadata": {
    "tags": []
   },
   "outputs": [
    {
     "name": "stdout",
     "output_type": "stream",
     "text": [
      "{'id': 'd9cac781-7c11-451c-b94f-ae99e40c6261', 'generations': [{'text': \" '물음표'를 잠재울 수 있을까 아문센이 세계 최초로 남극점에 도달한건 불과 2년전인 1903년이다.\", 'tokens': 32}, {'text': ' 수많은 문제를 30년 후에 해결한다! 『덜 인간적인 아이들』 기리노 나쓰오의 다중지능이론 돈이 행복 그 자체', 'tokens': 32}, {'text': ' 난제를 해결할 수 있다는 목소리도 있다. 박옥수 목사(신천지예수교 증거장막성전 총회장). ▶ 커튼뒤 유대인 지능', 'tokens': 32}], 'usage': {'prompt_tokens': 66, 'generated_tokens': 96, 'total_tokens': 162}}\n"
     ]
    }
   ],
   "source": [
    "# coding=utf8\n",
    "# REST API 호출에 필요한 라이브러리\n",
    "import requests\n",
    "import json\n",
    "\n",
    "# [내 애플리케이션] > [앱 키] 에서 확인한 REST API 키 값 입력\n",
    "REST_API_KEY = REST_API_KEY\n",
    "\n",
    "# KoGPT API 호출을 위한 메서드 선언\n",
    "# 각 파라미터 기본값으로 설정\n",
    "def kogpt_api(prompt, max_tokens = 1, temperature = 1.0, top_p = 1.0, n = 1):\n",
    "    r = requests.post(\n",
    "        'https://api.kakaobrain.com/v1/inference/kogpt/generation',\n",
    "        json = {\n",
    "            'prompt': prompt,\n",
    "            'max_tokens': max_tokens,\n",
    "            'temperature': temperature,\n",
    "            'top_p': top_p,\n",
    "            'n': n\n",
    "        },\n",
    "        headers = {\n",
    "            'Authorization': 'KakaoAK ' + REST_API_KEY,\n",
    "            'Content-Type': 'application/json'\n",
    "        }\n",
    "    )\n",
    "    # 응답 JSON 형식으로 변환\n",
    "    response = json.loads(r.content)\n",
    "    return response\n",
    "\n",
    "# KoGPT에게 전달할 명령어 구성\n",
    "prompt = '''인간처럼 생각하고, 행동하는 '지능'을 통해 인류가 이제까지 풀지 못했던'''\n",
    "\n",
    "# 파라미터를 전달해 kogpt_api()메서드 호출\n",
    "response = kogpt_api(\n",
    "    prompt = prompt,\n",
    "    max_tokens = 32,\n",
    "    temperature = 1.0,\n",
    "    top_p = 1.0,\n",
    "    n = 3\n",
    ")\n",
    "\n",
    "print(response)"
   ]
  },
  {
   "cell_type": "code",
   "execution_count": null,
   "id": "876e7194-d571-43a8-92d4-4b796d5a6eb9",
   "metadata": {},
   "outputs": [],
   "source": []
  },
  {
   "cell_type": "code",
   "execution_count": null,
   "id": "0354119b-1c83-497c-82fe-6913f38527ed",
   "metadata": {},
   "outputs": [],
   "source": []
  }
 ],
 "metadata": {
  "kernelspec": {
   "display_name": "Python 3 (ipykernel)",
   "language": "python",
   "name": "python3"
  },
  "language_info": {
   "codemirror_mode": {
    "name": "ipython",
    "version": 3
   },
   "file_extension": ".py",
   "mimetype": "text/x-python",
   "name": "python",
   "nbconvert_exporter": "python",
   "pygments_lexer": "ipython3",
   "version": "3.11.5"
  }
 },
 "nbformat": 4,
 "nbformat_minor": 5
}
