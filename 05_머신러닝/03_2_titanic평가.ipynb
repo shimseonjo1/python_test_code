{
 "cells": [
  {
   "cell_type": "code",
   "execution_count": 4,
   "id": "5ac1c3a9-30c8-407e-b679-1259ebfe2a88",
   "metadata": {
    "tags": []
   },
   "outputs": [],
   "source": [
    "def fillna(df):\n",
    "    df['Age'].fillna(df['Age'].mean(),inplace=True)\n",
    "    df['Cabin'].fillna('N',inplace=True)\n",
    "    df['Embarked'].fillna('N',inplace=True)\n",
    "    df['Fare'].fillna(0,inplace=True)\n",
    "    return df\n",
    "\n",
    "def drop_features(df):\n",
    "    df.drop(columns=['PassengerId','Name','Ticket'], inplace=True)\n",
    "    return df\n",
    "\n",
    "def format_features(df):\n",
    "    from sklearn.preprocessing import LabelEncoder\n",
    "    df['Cabin'] = df.Cabin.str[0]\n",
    "    features = ['Cabin','Sex','Embarked']\n",
    "    for feature in features:\n",
    "        le = LabelEncoder()\n",
    "        df[feature] =  le.fit_transform(df[feature])\n",
    "        print(le.classes_)\n",
    "    return df\n",
    "\n",
    "def transform_features(df):\n",
    "    df = fillna(df)\n",
    "    df = drop_features(df)\n",
    "    df = format_features(df)\n",
    "    return df\n",
    "\n",
    "def get_clf_eval(y_test,pred):\n",
    "    from sklearn.metrics import accuracy_score,precision_score,recall_score,confusion_matrix\n",
    "    confusion  = confusion_matrix(y_test,pred)\n",
    "    accuracy = accuracy_score(y_test,pred)\n",
    "    precision = precision_score(y_test,pred)\n",
    "    recall = recall_score(y_test,pred)\n",
    "    print('오차행렬')\n",
    "    print(confusion)\n",
    "    print(f'정확도:{accuracy:.4f}, 정밀도:{precision:.4f}, 재현율:{recall:.4f}')"
   ]
  },
  {
   "cell_type": "code",
   "execution_count": 5,
   "id": "b3288ebf-af9f-4e4c-b7c4-c42fe9a32de0",
   "metadata": {
    "tags": []
   },
   "outputs": [
    {
     "name": "stdout",
     "output_type": "stream",
     "text": [
      "['A' 'B' 'C' 'D' 'E' 'F' 'G' 'N' 'T']\n",
      "['female' 'male']\n",
      "['C' 'N' 'Q' 'S']\n"
     ]
    }
   ],
   "source": [
    "import pandas as pd\n",
    "from sklearn.model_selection import train_test_split\n",
    "df = pd.read_csv('titanic_train.csv')\n",
    "y = df.Survived \n",
    "x = df.drop(columns=['Survived'])\n",
    "x = transform_features(x)\n",
    "X_train,X_test,y_train,y_test = train_test_split(x,y,test_size=0.2,random_state=11)"
   ]
  },
  {
   "cell_type": "code",
   "execution_count": 6,
   "id": "04e7069a-9096-4483-9bca-4dd971e95953",
   "metadata": {
    "tags": []
   },
   "outputs": [],
   "source": [
    "from sklearn.linear_model import LogisticRegression"
   ]
  },
  {
   "cell_type": "code",
   "execution_count": 14,
   "id": "43796bbf-1ec9-46c3-8493-1aad07c4e28d",
   "metadata": {
    "tags": []
   },
   "outputs": [
    {
     "name": "stdout",
     "output_type": "stream",
     "text": [
      "오차행렬\n",
      "[[104  14]\n",
      " [ 13  48]]\n",
      "정확도:0.8492, 정밀도:0.7742, 재현율:0.7869\n"
     ]
    }
   ],
   "source": [
    "lr_clf = LogisticRegression(max_iter=150)\n",
    "lr_clf.fit(X_train,y_train)\n",
    "pred = lr_clf.predict(X_test)\n",
    "get_clf_eval(y_test,pred)"
   ]
  },
  {
   "cell_type": "code",
   "execution_count": 15,
   "id": "9455c385-8892-44da-a5f1-97c70a7a6d9c",
   "metadata": {
    "tags": []
   },
   "outputs": [],
   "source": [
    "pred_proba = lr_clf.predict_proba(X_test)"
   ]
  },
  {
   "cell_type": "code",
   "execution_count": 18,
   "id": "c6ce1320-09d2-4b17-a89a-4dccc4b8412a",
   "metadata": {
    "tags": []
   },
   "outputs": [
    {
     "data": {
      "text/plain": [
       "array([1, 0, 0], dtype=int64)"
      ]
     },
     "execution_count": 18,
     "metadata": {},
     "output_type": "execute_result"
    }
   ],
   "source": [
    "pred[:3]"
   ]
  },
  {
   "cell_type": "code",
   "execution_count": 17,
   "id": "5cb8be6d-ec94-4bed-8edb-53d656a3672d",
   "metadata": {
    "tags": []
   },
   "outputs": [
    {
     "data": {
      "text/plain": [
       "array([[0.46203017, 0.53796983],\n",
       "       [0.87872733, 0.12127267],\n",
       "       [0.87717511, 0.12282489]])"
      ]
     },
     "execution_count": 17,
     "metadata": {},
     "output_type": "execute_result"
    }
   ],
   "source": [
    "pred_proba[:3]"
   ]
  },
  {
   "cell_type": "code",
   "execution_count": 19,
   "id": "55c78e14-0b65-4cbc-a7e7-2a915ae99d75",
   "metadata": {
    "tags": []
   },
   "outputs": [],
   "source": [
    "import numpy as np"
   ]
  },
  {
   "cell_type": "code",
   "execution_count": 23,
   "id": "46e2f57a-95da-462b-806f-a37eb68d6191",
   "metadata": {
    "collapsed": true,
    "jupyter": {
     "outputs_hidden": true
    },
    "tags": []
   },
   "outputs": [
    {
     "data": {
      "text/plain": [
       "array([[0.46203017, 0.53796983],\n",
       "       [0.87872733, 0.12127267],\n",
       "       [0.87717511, 0.12282489],\n",
       "       [0.88251544, 0.11748456],\n",
       "       [0.85526601, 0.14473399],\n",
       "       [0.88216984, 0.11783016],\n",
       "       [0.88846031, 0.11153969],\n",
       "       [0.20877482, 0.79122518],\n",
       "       [0.78289495, 0.21710505],\n",
       "       [0.36914729, 0.63085271],\n",
       "       [0.89973075, 0.10026925],\n",
       "       [0.87508071, 0.12491929],\n",
       "       [0.87716914, 0.12283086],\n",
       "       [0.88841448, 0.11158552],\n",
       "       [0.43698012, 0.56301988],\n",
       "       [0.85905344, 0.14094656],\n",
       "       [0.90373136, 0.09626864],\n",
       "       [0.73345034, 0.26654966],\n",
       "       [0.72478645, 0.27521355],\n",
       "       [0.17162115, 0.82837885],\n",
       "       [0.75361145, 0.24638855],\n",
       "       [0.61897074, 0.38102926],\n",
       "       [0.85469626, 0.14530374],\n",
       "       [0.8146844 , 0.1853156 ],\n",
       "       [0.88804438, 0.11195562],\n",
       "       [0.76550859, 0.23449141],\n",
       "       [0.8596044 , 0.1403956 ],\n",
       "       [0.92580965, 0.07419035],\n",
       "       [0.71963478, 0.28036522],\n",
       "       [0.69554739, 0.30445261],\n",
       "       [0.05280352, 0.94719648],\n",
       "       [0.18283202, 0.81716798],\n",
       "       [0.87306863, 0.12693137],\n",
       "       [0.17383429, 0.82616571],\n",
       "       [0.60051014, 0.39948986],\n",
       "       [0.76550859, 0.23449141],\n",
       "       [0.92759586, 0.07240414],\n",
       "       [0.38911087, 0.61088913],\n",
       "       [0.94707314, 0.05292686],\n",
       "       [0.89611385, 0.10388615],\n",
       "       [0.64903923, 0.35096077],\n",
       "       [0.916603  , 0.083397  ],\n",
       "       [0.17836266, 0.82163734],\n",
       "       [0.29219994, 0.70780006],\n",
       "       [0.36956321, 0.63043679],\n",
       "       [0.36954695, 0.63045305],\n",
       "       [0.08112878, 0.91887122],\n",
       "       [0.64073169, 0.35926831],\n",
       "       [0.05114714, 0.94885286],\n",
       "       [0.8880099 , 0.1119901 ],\n",
       "       [0.40768504, 0.59231496],\n",
       "       [0.88841448, 0.11158552],\n",
       "       [0.86727102, 0.13272898],\n",
       "       [0.2745952 , 0.7254048 ],\n",
       "       [0.69073411, 0.30926589],\n",
       "       [0.80294817, 0.19705183],\n",
       "       [0.77363933, 0.22636067],\n",
       "       [0.87717407, 0.12282593],\n",
       "       [0.84588469, 0.15411531],\n",
       "       [0.56757384, 0.43242616],\n",
       "       [0.71992622, 0.28007378],\n",
       "       [0.89928715, 0.10071285],\n",
       "       [0.4548747 , 0.5451253 ],\n",
       "       [0.48564201, 0.51435799],\n",
       "       [0.55575172, 0.44424828],\n",
       "       [0.90542245, 0.09457755],\n",
       "       [0.33336081, 0.66663919],\n",
       "       [0.40598705, 0.59401295],\n",
       "       [0.04822859, 0.95177141],\n",
       "       [0.85175996, 0.14824004],\n",
       "       [0.87119332, 0.12880668],\n",
       "       [0.83165914, 0.16834086],\n",
       "       [0.89611161, 0.10388839],\n",
       "       [0.05203359, 0.94796641],\n",
       "       [0.80134415, 0.19865585],\n",
       "       [0.88841448, 0.11158552],\n",
       "       [0.65215081, 0.34784919],\n",
       "       [0.81630718, 0.18369282],\n",
       "       [0.16444073, 0.83555927],\n",
       "       [0.87717407, 0.12282593],\n",
       "       [0.20528101, 0.79471899],\n",
       "       [0.35429469, 0.64570531],\n",
       "       [0.06888835, 0.93111165],\n",
       "       [0.86682837, 0.13317163],\n",
       "       [0.05112684, 0.94887316],\n",
       "       [0.04972983, 0.95027017],\n",
       "       [0.84641731, 0.15358269],\n",
       "       [0.87453066, 0.12546934],\n",
       "       [0.12552294, 0.87447706],\n",
       "       [0.88841448, 0.11158552],\n",
       "       [0.88841448, 0.11158552],\n",
       "       [0.76550859, 0.23449141],\n",
       "       [0.76765929, 0.23234071],\n",
       "       [0.88841448, 0.11158552],\n",
       "       [0.36954695, 0.63045305],\n",
       "       [0.92428524, 0.07571476],\n",
       "       [0.07119486, 0.92880514],\n",
       "       [0.89931096, 0.10068904],\n",
       "       [0.49498583, 0.50501417],\n",
       "       [0.03494494, 0.96505506],\n",
       "       [0.49826198, 0.50173802],\n",
       "       [0.9055331 , 0.0944669 ],\n",
       "       [0.05215434, 0.94784566],\n",
       "       [0.90248145, 0.09751855],\n",
       "       [0.4700118 , 0.5299882 ],\n",
       "       [0.87167956, 0.12832044],\n",
       "       [0.85900649, 0.14099351],\n",
       "       [0.85176027, 0.14823973],\n",
       "       [0.55056645, 0.44943355],\n",
       "       [0.89205909, 0.10794091],\n",
       "       [0.88288886, 0.11711114],\n",
       "       [0.89114566, 0.10885434],\n",
       "       [0.59697178, 0.40302822],\n",
       "       [0.3461539 , 0.6538461 ],\n",
       "       [0.88804438, 0.11195562],\n",
       "       [0.92900448, 0.07099552],\n",
       "       [0.87556712, 0.12443288],\n",
       "       [0.80157408, 0.19842592],\n",
       "       [0.07404148, 0.92595852],\n",
       "       [0.93133285, 0.06866715],\n",
       "       [0.88842331, 0.11157669],\n",
       "       [0.8691647 , 0.1308353 ],\n",
       "       [0.93630134, 0.06369866],\n",
       "       [0.67791377, 0.32208623],\n",
       "       [0.98837507, 0.01162493],\n",
       "       [0.88842331, 0.11157669],\n",
       "       [0.88379804, 0.11620196],\n",
       "       [0.68344436, 0.31655564],\n",
       "       [0.32238066, 0.67761934],\n",
       "       [0.67831552, 0.32168448],\n",
       "       [0.03494494, 0.96505506],\n",
       "       [0.54634136, 0.45365864],\n",
       "       [0.26464975, 0.73535025],\n",
       "       [0.55670711, 0.44329289],\n",
       "       [0.43025607, 0.56974393],\n",
       "       [0.64871158, 0.35128842],\n",
       "       [0.2515182 , 0.7484818 ],\n",
       "       [0.81382851, 0.18617149],\n",
       "       [0.89608649, 0.10391351],\n",
       "       [0.19650924, 0.80349076],\n",
       "       [0.09106008, 0.90893992],\n",
       "       [0.85176027, 0.14823973],\n",
       "       [0.88196535, 0.11803465],\n",
       "       [0.89877227, 0.10122773],\n",
       "       [0.90838524, 0.09161476],\n",
       "       [0.3319013 , 0.6680987 ],\n",
       "       [0.92433023, 0.07566977],\n",
       "       [0.76605944, 0.23394056],\n",
       "       [0.08199182, 0.91800818],\n",
       "       [0.83180524, 0.16819476],\n",
       "       [0.57124762, 0.42875238],\n",
       "       [0.36857421, 0.63142579],\n",
       "       [0.3635513 , 0.6364487 ],\n",
       "       [0.87722958, 0.12277042],\n",
       "       [0.22230998, 0.77769002],\n",
       "       [0.1192552 , 0.8807448 ],\n",
       "       [0.51293753, 0.48706247],\n",
       "       [0.86710794, 0.13289206],\n",
       "       [0.24825382, 0.75174618],\n",
       "       [0.30962088, 0.69037912],\n",
       "       [0.85030727, 0.14969273],\n",
       "       [0.20698705, 0.79301295],\n",
       "       [0.90874515, 0.09125485],\n",
       "       [0.33342824, 0.66657176],\n",
       "       [0.61974251, 0.38025749],\n",
       "       [0.34885039, 0.65114961],\n",
       "       [0.11574014, 0.88425986],\n",
       "       [0.69076015, 0.30923985],\n",
       "       [0.908366  , 0.091634  ],\n",
       "       [0.10704248, 0.89295752],\n",
       "       [0.88846031, 0.11153969],\n",
       "       [0.14588235, 0.85411765],\n",
       "       [0.74914739, 0.25085261],\n",
       "       [0.7598579 , 0.2401421 ],\n",
       "       [0.59872021, 0.40127979],\n",
       "       [0.937682  , 0.062318  ],\n",
       "       [0.85899949, 0.14100051],\n",
       "       [0.45544086, 0.54455914],\n",
       "       [0.37327435, 0.62672565]])"
      ]
     },
     "execution_count": 23,
     "metadata": {},
     "output_type": "execute_result"
    }
   ],
   "source": [
    "pred_proba"
   ]
  },
  {
   "cell_type": "code",
   "execution_count": 26,
   "id": "2513c4c8-edc0-4514-ae75-bbc88fb60f8e",
   "metadata": {
    "collapsed": true,
    "jupyter": {
     "outputs_hidden": true
    },
    "tags": []
   },
   "outputs": [
    {
     "data": {
      "text/plain": [
       "array([[1.        , 0.46203017, 0.53796983],\n",
       "       [0.        , 0.87872733, 0.12127267],\n",
       "       [0.        , 0.87717511, 0.12282489],\n",
       "       [0.        , 0.88251544, 0.11748456],\n",
       "       [0.        , 0.85526601, 0.14473399],\n",
       "       [0.        , 0.88216984, 0.11783016],\n",
       "       [0.        , 0.88846031, 0.11153969],\n",
       "       [1.        , 0.20877482, 0.79122518],\n",
       "       [0.        , 0.78289495, 0.21710505],\n",
       "       [1.        , 0.36914729, 0.63085271],\n",
       "       [0.        , 0.89973075, 0.10026925],\n",
       "       [0.        , 0.87508071, 0.12491929],\n",
       "       [0.        , 0.87716914, 0.12283086],\n",
       "       [0.        , 0.88841448, 0.11158552],\n",
       "       [1.        , 0.43698012, 0.56301988],\n",
       "       [0.        , 0.85905344, 0.14094656],\n",
       "       [0.        , 0.90373136, 0.09626864],\n",
       "       [0.        , 0.73345034, 0.26654966],\n",
       "       [0.        , 0.72478645, 0.27521355],\n",
       "       [1.        , 0.17162115, 0.82837885],\n",
       "       [0.        , 0.75361145, 0.24638855],\n",
       "       [0.        , 0.61897074, 0.38102926],\n",
       "       [0.        , 0.85469626, 0.14530374],\n",
       "       [0.        , 0.8146844 , 0.1853156 ],\n",
       "       [0.        , 0.88804438, 0.11195562],\n",
       "       [0.        , 0.76550859, 0.23449141],\n",
       "       [0.        , 0.8596044 , 0.1403956 ],\n",
       "       [0.        , 0.92580965, 0.07419035],\n",
       "       [0.        , 0.71963478, 0.28036522],\n",
       "       [0.        , 0.69554739, 0.30445261],\n",
       "       [1.        , 0.05280352, 0.94719648],\n",
       "       [1.        , 0.18283202, 0.81716798],\n",
       "       [0.        , 0.87306863, 0.12693137],\n",
       "       [1.        , 0.17383429, 0.82616571],\n",
       "       [0.        , 0.60051014, 0.39948986],\n",
       "       [0.        , 0.76550859, 0.23449141],\n",
       "       [0.        , 0.92759586, 0.07240414],\n",
       "       [1.        , 0.38911087, 0.61088913],\n",
       "       [0.        , 0.94707314, 0.05292686],\n",
       "       [0.        , 0.89611385, 0.10388615],\n",
       "       [0.        , 0.64903923, 0.35096077],\n",
       "       [0.        , 0.916603  , 0.083397  ],\n",
       "       [1.        , 0.17836266, 0.82163734],\n",
       "       [1.        , 0.29219994, 0.70780006],\n",
       "       [1.        , 0.36956321, 0.63043679],\n",
       "       [1.        , 0.36954695, 0.63045305],\n",
       "       [1.        , 0.08112878, 0.91887122],\n",
       "       [0.        , 0.64073169, 0.35926831],\n",
       "       [1.        , 0.05114714, 0.94885286],\n",
       "       [0.        , 0.8880099 , 0.1119901 ],\n",
       "       [1.        , 0.40768504, 0.59231496],\n",
       "       [0.        , 0.88841448, 0.11158552],\n",
       "       [0.        , 0.86727102, 0.13272898],\n",
       "       [1.        , 0.2745952 , 0.7254048 ],\n",
       "       [0.        , 0.69073411, 0.30926589],\n",
       "       [0.        , 0.80294817, 0.19705183],\n",
       "       [0.        , 0.77363933, 0.22636067],\n",
       "       [0.        , 0.87717407, 0.12282593],\n",
       "       [0.        , 0.84588469, 0.15411531],\n",
       "       [0.        , 0.56757384, 0.43242616],\n",
       "       [0.        , 0.71992622, 0.28007378],\n",
       "       [0.        , 0.89928715, 0.10071285],\n",
       "       [1.        , 0.4548747 , 0.5451253 ],\n",
       "       [1.        , 0.48564201, 0.51435799],\n",
       "       [0.        , 0.55575172, 0.44424828],\n",
       "       [0.        , 0.90542245, 0.09457755],\n",
       "       [1.        , 0.33336081, 0.66663919],\n",
       "       [1.        , 0.40598705, 0.59401295],\n",
       "       [1.        , 0.04822859, 0.95177141],\n",
       "       [0.        , 0.85175996, 0.14824004],\n",
       "       [0.        , 0.87119332, 0.12880668],\n",
       "       [0.        , 0.83165914, 0.16834086],\n",
       "       [0.        , 0.89611161, 0.10388839],\n",
       "       [1.        , 0.05203359, 0.94796641],\n",
       "       [0.        , 0.80134415, 0.19865585],\n",
       "       [0.        , 0.88841448, 0.11158552],\n",
       "       [0.        , 0.65215081, 0.34784919],\n",
       "       [0.        , 0.81630718, 0.18369282],\n",
       "       [1.        , 0.16444073, 0.83555927],\n",
       "       [0.        , 0.87717407, 0.12282593],\n",
       "       [1.        , 0.20528101, 0.79471899],\n",
       "       [1.        , 0.35429469, 0.64570531],\n",
       "       [1.        , 0.06888835, 0.93111165],\n",
       "       [0.        , 0.86682837, 0.13317163],\n",
       "       [1.        , 0.05112684, 0.94887316],\n",
       "       [1.        , 0.04972983, 0.95027017],\n",
       "       [0.        , 0.84641731, 0.15358269],\n",
       "       [0.        , 0.87453066, 0.12546934],\n",
       "       [1.        , 0.12552294, 0.87447706],\n",
       "       [0.        , 0.88841448, 0.11158552],\n",
       "       [0.        , 0.88841448, 0.11158552],\n",
       "       [0.        , 0.76550859, 0.23449141],\n",
       "       [0.        , 0.76765929, 0.23234071],\n",
       "       [0.        , 0.88841448, 0.11158552],\n",
       "       [1.        , 0.36954695, 0.63045305],\n",
       "       [0.        , 0.92428524, 0.07571476],\n",
       "       [1.        , 0.07119486, 0.92880514],\n",
       "       [0.        , 0.89931096, 0.10068904],\n",
       "       [1.        , 0.49498583, 0.50501417],\n",
       "       [1.        , 0.03494494, 0.96505506],\n",
       "       [1.        , 0.49826198, 0.50173802],\n",
       "       [0.        , 0.9055331 , 0.0944669 ],\n",
       "       [1.        , 0.05215434, 0.94784566],\n",
       "       [0.        , 0.90248145, 0.09751855],\n",
       "       [1.        , 0.4700118 , 0.5299882 ],\n",
       "       [0.        , 0.87167956, 0.12832044],\n",
       "       [0.        , 0.85900649, 0.14099351],\n",
       "       [0.        , 0.85176027, 0.14823973],\n",
       "       [0.        , 0.55056645, 0.44943355],\n",
       "       [0.        , 0.89205909, 0.10794091],\n",
       "       [0.        , 0.88288886, 0.11711114],\n",
       "       [0.        , 0.89114566, 0.10885434],\n",
       "       [0.        , 0.59697178, 0.40302822],\n",
       "       [1.        , 0.3461539 , 0.6538461 ],\n",
       "       [0.        , 0.88804438, 0.11195562],\n",
       "       [0.        , 0.92900448, 0.07099552],\n",
       "       [0.        , 0.87556712, 0.12443288],\n",
       "       [0.        , 0.80157408, 0.19842592],\n",
       "       [1.        , 0.07404148, 0.92595852],\n",
       "       [0.        , 0.93133285, 0.06866715],\n",
       "       [0.        , 0.88842331, 0.11157669],\n",
       "       [0.        , 0.8691647 , 0.1308353 ],\n",
       "       [0.        , 0.93630134, 0.06369866],\n",
       "       [0.        , 0.67791377, 0.32208623],\n",
       "       [0.        , 0.98837507, 0.01162493],\n",
       "       [0.        , 0.88842331, 0.11157669],\n",
       "       [0.        , 0.88379804, 0.11620196],\n",
       "       [0.        , 0.68344436, 0.31655564],\n",
       "       [1.        , 0.32238066, 0.67761934],\n",
       "       [0.        , 0.67831552, 0.32168448],\n",
       "       [1.        , 0.03494494, 0.96505506],\n",
       "       [0.        , 0.54634136, 0.45365864],\n",
       "       [1.        , 0.26464975, 0.73535025],\n",
       "       [0.        , 0.55670711, 0.44329289],\n",
       "       [1.        , 0.43025607, 0.56974393],\n",
       "       [0.        , 0.64871158, 0.35128842],\n",
       "       [1.        , 0.2515182 , 0.7484818 ],\n",
       "       [0.        , 0.81382851, 0.18617149],\n",
       "       [0.        , 0.89608649, 0.10391351],\n",
       "       [1.        , 0.19650924, 0.80349076],\n",
       "       [1.        , 0.09106008, 0.90893992],\n",
       "       [0.        , 0.85176027, 0.14823973],\n",
       "       [0.        , 0.88196535, 0.11803465],\n",
       "       [0.        , 0.89877227, 0.10122773],\n",
       "       [0.        , 0.90838524, 0.09161476],\n",
       "       [1.        , 0.3319013 , 0.6680987 ],\n",
       "       [0.        , 0.92433023, 0.07566977],\n",
       "       [0.        , 0.76605944, 0.23394056],\n",
       "       [1.        , 0.08199182, 0.91800818],\n",
       "       [0.        , 0.83180524, 0.16819476],\n",
       "       [0.        , 0.57124762, 0.42875238],\n",
       "       [1.        , 0.36857421, 0.63142579],\n",
       "       [1.        , 0.3635513 , 0.6364487 ],\n",
       "       [0.        , 0.87722958, 0.12277042],\n",
       "       [1.        , 0.22230998, 0.77769002],\n",
       "       [1.        , 0.1192552 , 0.8807448 ],\n",
       "       [0.        , 0.51293753, 0.48706247],\n",
       "       [0.        , 0.86710794, 0.13289206],\n",
       "       [1.        , 0.24825382, 0.75174618],\n",
       "       [1.        , 0.30962088, 0.69037912],\n",
       "       [0.        , 0.85030727, 0.14969273],\n",
       "       [1.        , 0.20698705, 0.79301295],\n",
       "       [0.        , 0.90874515, 0.09125485],\n",
       "       [1.        , 0.33342824, 0.66657176],\n",
       "       [0.        , 0.61974251, 0.38025749],\n",
       "       [1.        , 0.34885039, 0.65114961],\n",
       "       [1.        , 0.11574014, 0.88425986],\n",
       "       [0.        , 0.69076015, 0.30923985],\n",
       "       [0.        , 0.908366  , 0.091634  ],\n",
       "       [1.        , 0.10704248, 0.89295752],\n",
       "       [0.        , 0.88846031, 0.11153969],\n",
       "       [1.        , 0.14588235, 0.85411765],\n",
       "       [0.        , 0.74914739, 0.25085261],\n",
       "       [0.        , 0.7598579 , 0.2401421 ],\n",
       "       [0.        , 0.59872021, 0.40127979],\n",
       "       [0.        , 0.937682  , 0.062318  ],\n",
       "       [0.        , 0.85899949, 0.14100051],\n",
       "       [1.        , 0.45544086, 0.54455914],\n",
       "       [1.        , 0.37327435, 0.62672565]])"
      ]
     },
     "execution_count": 26,
     "metadata": {},
     "output_type": "execute_result"
    }
   ],
   "source": [
    "np.concatenate([pred.reshape(-1,1),pred_proba],axis=1)"
   ]
  },
  {
   "cell_type": "code",
   "execution_count": 27,
   "id": "1e292a3b-f625-40c2-a6b3-2a8353229346",
   "metadata": {
    "tags": []
   },
   "outputs": [],
   "source": [
    "from sklearn.preprocessing import Binarizer"
   ]
  },
  {
   "cell_type": "code",
   "execution_count": 29,
   "id": "d9483bdf-e7a7-4984-813a-24454cbc5985",
   "metadata": {
    "tags": []
   },
   "outputs": [
    {
     "data": {
      "text/plain": [
       "array([[0., 0., 1.],\n",
       "       [1., 0., 0.],\n",
       "       [0., 0., 1.]])"
      ]
     },
     "execution_count": 29,
     "metadata": {},
     "output_type": "execute_result"
    }
   ],
   "source": [
    "X = [[1,-1,2],\n",
    "       [2,0,0],\n",
    "       [0,1.1,1.2]]\n",
    "binarizer = Binarizer(threshold=1.1)\n",
    "binarizer.fit_transform(X)"
   ]
  },
  {
   "cell_type": "code",
   "execution_count": 35,
   "id": "a1ffeceb-47f9-44da-b69a-802d6345ca32",
   "metadata": {
    "tags": []
   },
   "outputs": [
    {
     "name": "stdout",
     "output_type": "stream",
     "text": [
      "오차행렬\n",
      "[[112   6]\n",
      " [ 16  45]]\n",
      "정확도:0.8771, 정밀도:0.8824, 재현율:0.7377\n"
     ]
    }
   ],
   "source": [
    "custom_threshold = 0.6\n",
    "pred_proba_1 = pred_proba[:,1].reshape(-1,1)\n",
    "# pred_proba_1\n",
    "\n",
    "binarizer = Binarizer(threshold=custom_threshold)\n",
    "custom_pred = binarizer.fit_transform(pred_proba_1)\n",
    "# custom_pred\n",
    "\n",
    "get_clf_eval(y_test,custom_pred)\n",
    "# custom_threshold = 0.5\n",
    "# 오차행렬 \n",
    "# [[104  14]\n",
    "#  [ 13  48]]\n",
    "# 정확도:0.8492, 정밀도:0.7742, 재현율:0.7869\n",
    "# custom_threshold = 0.4\n",
    "# 오차행렬\n",
    "# [[98 20]\n",
    "#  [10 51]]\n",
    "# 정확도:0.8324, 정밀도:0.7183, 재현율:0.8361"
   ]
  },
  {
   "cell_type": "code",
   "execution_count": 37,
   "id": "5ec0057c-b6b9-478c-a28d-a19bee67fd07",
   "metadata": {
    "tags": []
   },
   "outputs": [],
   "source": [
    "custom_thresholds = [0.4,0.45,0.5,0.55,0.6]\n",
    "def get_eval_by_threshold(y_test,pred_proba_c1,custom_thresholds):\n",
    "    for custom_threshold in custom_thresholds:\n",
    "        binarizer = Binarizer(threshold=custom_threshold)\n",
    "        custom_pred = binarizer.fit_transform(pred_proba_c1)\n",
    "        print('임계값:',custom_threshold)\n",
    "        get_clf_eval(y_test,custom_pred)        "
   ]
  },
  {
   "cell_type": "code",
   "execution_count": 38,
   "id": "38a9259b-ce3c-45fa-bbf4-1cc8e3aac1e4",
   "metadata": {
    "collapsed": true,
    "jupyter": {
     "outputs_hidden": true
    },
    "tags": []
   },
   "outputs": [
    {
     "name": "stdout",
     "output_type": "stream",
     "text": [
      "임계값: 0.4\n",
      "오차행렬\n",
      "[[98 20]\n",
      " [10 51]]\n",
      "정확도:0.8324, 정밀도:0.7183, 재현율:0.8361\n",
      "임계값: 0.45\n",
      "오차행렬\n",
      "[[103  15]\n",
      " [ 12  49]]\n",
      "정확도:0.8492, 정밀도:0.7656, 재현율:0.8033\n",
      "임계값: 0.5\n",
      "오차행렬\n",
      "[[104  14]\n",
      " [ 13  48]]\n",
      "정확도:0.8492, 정밀도:0.7742, 재현율:0.7869\n",
      "임계값: 0.55\n",
      "오차행렬\n",
      "[[109   9]\n",
      " [ 15  46]]\n",
      "정확도:0.8659, 정밀도:0.8364, 재현율:0.7541\n",
      "임계값: 0.6\n",
      "오차행렬\n",
      "[[112   6]\n",
      " [ 16  45]]\n",
      "정확도:0.8771, 정밀도:0.8824, 재현율:0.7377\n"
     ]
    }
   ],
   "source": [
    "get_eval_by_threshold(y_test,pred_proba[:,1].reshape(-1,1),custom_thresholds)"
   ]
  },
  {
   "cell_type": "code",
   "execution_count": 39,
   "id": "c842073b-cfe8-4248-88f5-1c6a9bfabd32",
   "metadata": {
    "tags": []
   },
   "outputs": [],
   "source": [
    "from sklearn.metrics import precision_recall_curve"
   ]
  },
  {
   "cell_type": "code",
   "execution_count": 42,
   "id": "6eb62011-bc94-416e-8373-479dc0f556e9",
   "metadata": {
    "tags": []
   },
   "outputs": [],
   "source": [
    "pred_proba_c1 = lr_clf.predict_proba(X_test)[:,1]"
   ]
  },
  {
   "cell_type": "code",
   "execution_count": 43,
   "id": "293b6464-807f-4f47-bb96-a958dbdf48d3",
   "metadata": {
    "tags": []
   },
   "outputs": [
    {
     "data": {
      "text/plain": [
       "(179,)"
      ]
     },
     "execution_count": 43,
     "metadata": {},
     "output_type": "execute_result"
    }
   ],
   "source": [
    "pred_proba_c1.shape"
   ]
  },
  {
   "cell_type": "code",
   "execution_count": 44,
   "id": "7805864f-5027-4cc0-8865-b86e3c604f5f",
   "metadata": {
    "tags": []
   },
   "outputs": [
    {
     "data": {
      "text/plain": [
       "(179,)"
      ]
     },
     "execution_count": 44,
     "metadata": {},
     "output_type": "execute_result"
    }
   ],
   "source": [
    "y_test.shape"
   ]
  },
  {
   "cell_type": "code",
   "execution_count": 46,
   "id": "4de0d930-6a3e-4373-92d2-4695e8a9dbfd",
   "metadata": {
    "tags": []
   },
   "outputs": [],
   "source": [
    "precisions, recalls, thresholds = precision_recall_curve(y_test,pred_proba_c1)"
   ]
  },
  {
   "cell_type": "code",
   "execution_count": 47,
   "id": "aa2d65f0-84e4-4a01-bdca-f3491a7bb8dd",
   "metadata": {
    "tags": []
   },
   "outputs": [
    {
     "data": {
      "text/plain": [
       "((166,), (166,), (165,))"
      ]
     },
     "execution_count": 47,
     "metadata": {},
     "output_type": "execute_result"
    }
   ],
   "source": [
    "precisions.shape,recalls.shape,thresholds.shape"
   ]
  },
  {
   "cell_type": "code",
   "execution_count": 48,
   "id": "ead88f14-c87e-4d76-b89d-76bf37de201b",
   "metadata": {
    "collapsed": true,
    "jupyter": {
     "outputs_hidden": true
    },
    "tags": []
   },
   "outputs": [
    {
     "data": {
      "text/plain": [
       "array([0.01162493, 0.05292686, 0.062318  , 0.06369866, 0.06866715,\n",
       "       0.07099552, 0.07240414, 0.07419035, 0.07566977, 0.07571476,\n",
       "       0.083397  , 0.09125485, 0.09161476, 0.091634  , 0.0944669 ,\n",
       "       0.09457755, 0.09626864, 0.09751855, 0.10026925, 0.10068904,\n",
       "       0.10071285, 0.10122773, 0.10388615, 0.10388839, 0.10391351,\n",
       "       0.10794091, 0.10885434, 0.11153969, 0.11157669, 0.11158552,\n",
       "       0.11195562, 0.1119901 , 0.11620196, 0.11711114, 0.11748456,\n",
       "       0.11783016, 0.11803465, 0.12127267, 0.12277042, 0.12282489,\n",
       "       0.12282593, 0.12283086, 0.12443288, 0.12491929, 0.12546934,\n",
       "       0.12693137, 0.12832044, 0.12880668, 0.1308353 , 0.13272898,\n",
       "       0.13289206, 0.13317163, 0.1403956 , 0.14094656, 0.14099351,\n",
       "       0.14100051, 0.14473399, 0.14530374, 0.14823973, 0.14824004,\n",
       "       0.14969273, 0.15358269, 0.15411531, 0.16819476, 0.16834086,\n",
       "       0.18369282, 0.1853156 , 0.18617149, 0.19705183, 0.19842592,\n",
       "       0.19865585, 0.21710505, 0.22636067, 0.23234071, 0.23394056,\n",
       "       0.23449141, 0.2401421 , 0.24638855, 0.25085261, 0.26654966,\n",
       "       0.27521355, 0.28007378, 0.28036522, 0.30445261, 0.30923985,\n",
       "       0.30926589, 0.31655564, 0.32168448, 0.32208623, 0.34784919,\n",
       "       0.35096077, 0.35128842, 0.35926831, 0.38025749, 0.38102926,\n",
       "       0.39948986, 0.40127979, 0.40302822, 0.42875238, 0.43242616,\n",
       "       0.44329289, 0.44424828, 0.44943355, 0.45365864, 0.48706247,\n",
       "       0.50173802, 0.50501417, 0.51435799, 0.5299882 , 0.53796983,\n",
       "       0.54455914, 0.5451253 , 0.56301988, 0.56974393, 0.59231496,\n",
       "       0.59401295, 0.61088913, 0.62672565, 0.63043679, 0.63045305,\n",
       "       0.63085271, 0.63142579, 0.6364487 , 0.64570531, 0.65114961,\n",
       "       0.6538461 , 0.66657176, 0.66663919, 0.6680987 , 0.67761934,\n",
       "       0.69037912, 0.70780006, 0.7254048 , 0.73535025, 0.7484818 ,\n",
       "       0.75174618, 0.77769002, 0.79122518, 0.79301295, 0.79471899,\n",
       "       0.80349076, 0.81716798, 0.82163734, 0.82616571, 0.82837885,\n",
       "       0.83555927, 0.85411765, 0.87447706, 0.8807448 , 0.88425986,\n",
       "       0.89295752, 0.90893992, 0.91800818, 0.91887122, 0.92595852,\n",
       "       0.92880514, 0.93111165, 0.94719648, 0.94784566, 0.94796641,\n",
       "       0.94885286, 0.94887316, 0.95027017, 0.95177141, 0.96505506])"
      ]
     },
     "execution_count": 48,
     "metadata": {},
     "output_type": "execute_result"
    }
   ],
   "source": [
    "thresholds"
   ]
  },
  {
   "cell_type": "code",
   "execution_count": 62,
   "id": "4045afca-d0fc-4c63-8d94-fbb370811dfb",
   "metadata": {
    "tags": []
   },
   "outputs": [
    {
     "data": {
      "image/png": "[encoded data removed]",
      "text/plain": [
       "<Figure size 1000x400 with 1 Axes>"
      ]
     },
     "metadata": {},
     "output_type": "display_data"
    }
   ],
   "source": [
    "def precision_recall_curve_plot(y_test,pred_proba_c1):\n",
    "    import matplotlib.pyplot as plt\n",
    "    precisions, recalls, thresholds = precision_recall_curve(y_test,pred_proba_c1)\n",
    "    plt.figure(figsize=(10,4))\n",
    "    plt.plot(thresholds, precisions[:-1],linestyle='--',label='precision')\n",
    "    plt.plot(thresholds, recalls[:-1],label='recall')\n",
    "    start , end = plt.xlim()\n",
    "    plt.xticks(np.round(np.arange(0 , 1, 0.1),2))\n",
    "    plt.xlabel('임계값의 변화')\n",
    "    plt.ylabel('정밀도,재현율')\n",
    "    plt.legend()\n",
    "    plt.grid()\n",
    "    \n",
    "precision_recall_curve_plot(y_test,lr_clf.predict_proba(X_test)[:,1])"
   ]
  },
  {
   "cell_type": "code",
   "execution_count": 66,
   "id": "f65c9d4c-9575-444d-aded-38ce8aa55c81",
   "metadata": {
    "tags": []
   },
   "outputs": [],
   "source": [
    "def get_clf_eval(y_test,pred,pred_proba=None):\n",
    "    from sklearn.metrics import accuracy_score,precision_score,recall_score,confusion_matrix,f1_score,roc_auc_score\n",
    "    confusion  = confusion_matrix(y_test,pred)\n",
    "    accuracy = accuracy_score(y_test,pred)\n",
    "    precision = precision_score(y_test,pred)\n",
    "    recall = recall_score(y_test,pred)\n",
    "    f1 = f1_score(y_test,pred)\n",
    "    roc_auc = roc_auc_score(y_test,pred_proba)\n",
    "    print('오차행렬')\n",
    "    print(confusion)\n",
    "    print(f'정확도:{accuracy:.4f}, 정밀도:{precision:.4f}, 재현율:{recall:.4f}, f1:{f1:.4f}, auc:{roc_auc:.4f}')"
   ]
  },
  {
   "cell_type": "code",
   "execution_count": 67,
   "id": "05b6d60b-10e1-4670-b90a-68fea0067f73",
   "metadata": {
    "tags": []
   },
   "outputs": [
    {
     "name": "stdout",
     "output_type": "stream",
     "text": [
      "오차행렬\n",
      "[[104  14]\n",
      " [ 13  48]]\n",
      "정확도:0.8492, 정밀도:0.7742, 재현율:0.7869, f1:0.7805, auc:0.9024\n"
     ]
    }
   ],
   "source": [
    "get_clf_eval(y_test,pred,pred_proba[:,1])"
   ]
  },
  {
   "cell_type": "code",
   "execution_count": 69,
   "id": "e30d67b6-3e46-4bd8-a9d7-4ee1f2da1714",
   "metadata": {
    "tags": []
   },
   "outputs": [
    {
     "name": "stdout",
     "output_type": "stream",
     "text": [
      "임계값: 0.4\n",
      "오차행렬\n",
      "[[98 20]\n",
      " [10 51]]\n",
      "정확도:0.8324, 정밀도:0.7183, 재현율:0.8361, f1:0.7727, auc:0.9024\n",
      "임계값: 0.45\n",
      "오차행렬\n",
      "[[103  15]\n",
      " [ 12  49]]\n",
      "정확도:0.8492, 정밀도:0.7656, 재현율:0.8033, f1:0.7840, auc:0.9024\n",
      "임계값: 0.5\n",
      "오차행렬\n",
      "[[104  14]\n",
      " [ 13  48]]\n",
      "정확도:0.8492, 정밀도:0.7742, 재현율:0.7869, f1:0.7805, auc:0.9024\n",
      "임계값: 0.55\n",
      "오차행렬\n",
      "[[109   9]\n",
      " [ 15  46]]\n",
      "정확도:0.8659, 정밀도:0.8364, 재현율:0.7541, f1:0.7931, auc:0.9024\n",
      "임계값: 0.6\n",
      "오차행렬\n",
      "[[112   6]\n",
      " [ 16  45]]\n",
      "정확도:0.8771, 정밀도:0.8824, 재현율:0.7377, f1:0.8036, auc:0.9024\n"
     ]
    }
   ],
   "source": [
    "custom_thresholds = [0.4,0.45,0.5,0.55,0.6]\n",
    "\n",
    "def get_eval_by_threshold(y_test,pred_proba_c1,custom_thresholds):\n",
    "    for custom_threshold in custom_thresholds:\n",
    "        binarizer = Binarizer(threshold=custom_threshold)\n",
    "        custom_pred = binarizer.fit_transform(pred_proba_c1)\n",
    "        print('임계값:',custom_threshold)\n",
    "        get_clf_eval(y_test,custom_pred,pred_proba_c1)        \n",
    "        \n",
    "get_eval_by_threshold(y_test,pred_proba[:,1].reshape(-1,1),custom_thresholds)"
   ]
  },
  {
   "cell_type": "code",
   "execution_count": null,
   "id": "810c03bc-30b7-4ccc-a273-b6d8bed31534",
   "metadata": {},
   "outputs": [],
   "source": []
  }
 ],
 "metadata": {
  "kernelspec": {
   "display_name": "Python 3 (ipykernel)",
   "language": "python",
   "name": "python3"
  },
  "language_info": {
   "codemirror_mode": {
    "name": "ipython",
    "version": 3
   },
   "file_extension": ".py",
   "mimetype": "text/x-python",
   "name": "python",
   "nbconvert_exporter": "python",
   "pygments_lexer": "ipython3",
   "version": "3.11.5"
  }
 },
 "nbformat": 4,
 "nbformat_minor": 5
}
